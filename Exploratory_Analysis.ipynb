{
 "cells": [
  {
   "metadata": {},
   "cell_type": "markdown",
   "source": "# Hospital Readmission Exploratory Analysis",
   "id": "39e66b44f6143daa"
  },
  {
   "cell_type": "code",
   "id": "initial_id",
   "metadata": {
    "collapsed": true,
    "ExecuteTime": {
     "end_time": "2025-03-28T23:21:06.286980Z",
     "start_time": "2025-03-28T23:21:06.283964Z"
    }
   },
   "source": [
    "import polars as pl\n",
    "import altair as alt\n",
    "import kagglehub\n",
    "import os\n"
   ],
   "outputs": [],
   "execution_count": 4
  },
  {
   "metadata": {
    "ExecuteTime": {
     "end_time": "2025-03-28T23:34:55.964988Z",
     "start_time": "2025-03-28T23:34:55.461653Z"
    }
   },
   "cell_type": "code",
   "source": [
    "# Download dataset\n",
    "test_path = kagglehub.dataset_download(\"vanpatangan/readmission-dataset\", path=\"test_df.csv\")\n",
    "train_path = kagglehub.dataset_download(\"vanpatangan/readmission-dataset\", path=\"train_df.csv\")\n",
    "\n",
    "print(test_path)\n",
    "print(train_path)\n"
   ],
   "id": "554e415965307507",
   "outputs": [
    {
     "name": "stdout",
     "output_type": "stream",
     "text": [
      "Warning: Looks like you're using an outdated `kagglehub` version, please consider updating (latest version: 0.3.10)\n",
      "Warning: Looks like you're using an outdated `kagglehub` version, please consider updating (latest version: 0.3.10)\n",
      "C:\\Users\\deric\\.cache\\kagglehub\\datasets\\vanpatangan\\readmission-dataset\\versions\\1\\test_df.csv\n",
      "C:\\Users\\deric\\.cache\\kagglehub\\datasets\\vanpatangan\\readmission-dataset\\versions\\1\\train_df.csv\n"
     ]
    }
   ],
   "execution_count": 23
  },
  {
   "metadata": {
    "ExecuteTime": {
     "end_time": "2025-03-28T23:34:48.222874Z",
     "start_time": "2025-03-28T23:34:48.218392Z"
    }
   },
   "cell_type": "code",
   "source": [
    "test_df = pl.read_csv(test_path)\n",
    "print(test_df.head())"
   ],
   "id": "67d9029271cbb752",
   "outputs": [
    {
     "name": "stdout",
     "output_type": "stream",
     "text": [
      "shape: (5, 7)\n",
      "┌─────┬────────┬────────────────┬────────────────┬────────────────┬────────────────┬───────────────┐\n",
      "│ age ┆ gender ┆ primary_diagno ┆ num_procedures ┆ days_in_hospit ┆ comorbidity_sc ┆ discharge_to  │\n",
      "│ --- ┆ ---    ┆ sis            ┆ ---            ┆ al             ┆ ore            ┆ ---           │\n",
      "│ i64 ┆ str    ┆ ---            ┆ i64            ┆ ---            ┆ ---            ┆ str           │\n",
      "│     ┆        ┆ str            ┆                ┆ i64            ┆ i64            ┆               │\n",
      "╞═════╪════════╪════════════════╪════════════════╪════════════════╪════════════════╪═══════════════╡\n",
      "│ 52  ┆ Male   ┆ Heart Disease  ┆ 3              ┆ 9              ┆ 3              ┆ Home          │\n",
      "│ 47  ┆ Female ┆ Diabetes       ┆ 2              ┆ 4              ┆ 0              ┆ Skilled       │\n",
      "│     ┆        ┆                ┆                ┆                ┆                ┆ Nursing       │\n",
      "│     ┆        ┆                ┆                ┆                ┆                ┆ Facility      │\n",
      "│ 72  ┆ Female ┆ Heart Disease  ┆ 7              ┆ 12             ┆ 4              ┆ Home          │\n",
      "│ 18  ┆ Female ┆ COPD           ┆ 5              ┆ 14             ┆ 3              ┆ Home          │\n",
      "│ 32  ┆ Male   ┆ Heart Disease  ┆ 9              ┆ 2              ┆ 4              ┆ Rehabilitatio │\n",
      "│     ┆        ┆                ┆                ┆                ┆                ┆ n Facility    │\n",
      "└─────┴────────┴────────────────┴────────────────┴────────────────┴────────────────┴───────────────┘\n"
     ]
    }
   ],
   "execution_count": 21
  },
  {
   "metadata": {
    "ExecuteTime": {
     "end_time": "2025-03-28T23:34:49.005466Z",
     "start_time": "2025-03-28T23:34:49.000868Z"
    }
   },
   "cell_type": "code",
   "source": [
    "train_df = pl.read_csv(train_path)\n",
    "print(train_df.head())"
   ],
   "id": "c37d238698689e97",
   "outputs": [
    {
     "name": "stdout",
     "output_type": "stream",
     "text": [
      "shape: (5, 8)\n",
      "┌─────┬────────┬──────────────┬─────────────┬─────────────┬─────────────┬─────────────┬────────────┐\n",
      "│ age ┆ gender ┆ primary_diag ┆ num_procedu ┆ days_in_hos ┆ comorbidity ┆ discharge_t ┆ readmitted │\n",
      "│ --- ┆ ---    ┆ nosis        ┆ res         ┆ pital       ┆ _score      ┆ o           ┆ ---        │\n",
      "│ i64 ┆ str    ┆ ---          ┆ ---         ┆ ---         ┆ ---         ┆ ---         ┆ i64        │\n",
      "│     ┆        ┆ str          ┆ i64         ┆ i64         ┆ i64         ┆ str         ┆            │\n",
      "╞═════╪════════╪══════════════╪═════════════╪═════════════╪═════════════╪═════════════╪════════════╡\n",
      "│ 69  ┆ Male   ┆ Heart        ┆ 1           ┆ 2           ┆ 1           ┆ Home Health ┆ 0          │\n",
      "│     ┆        ┆ Disease      ┆             ┆             ┆             ┆ Care        ┆            │\n",
      "│ 32  ┆ Female ┆ COPD         ┆ 2           ┆ 13          ┆ 2           ┆ Rehabilitat ┆ 0          │\n",
      "│     ┆        ┆              ┆             ┆             ┆             ┆ ion         ┆            │\n",
      "│     ┆        ┆              ┆             ┆             ┆             ┆ Facility    ┆            │\n",
      "│ 89  ┆ Male   ┆ Diabetes     ┆ 1           ┆ 7           ┆ 1           ┆ Home        ┆ 0          │\n",
      "│ 78  ┆ Male   ┆ COPD         ┆ 9           ┆ 2           ┆ 2           ┆ Skilled     ┆ 0          │\n",
      "│     ┆        ┆              ┆             ┆             ┆             ┆ Nursing     ┆            │\n",
      "│     ┆        ┆              ┆             ┆             ┆             ┆ Facility    ┆            │\n",
      "│ 38  ┆ Male   ┆ Diabetes     ┆ 6           ┆ 4           ┆ 4           ┆ Rehabilitat ┆ 0          │\n",
      "│     ┆        ┆              ┆             ┆             ┆             ┆ ion         ┆            │\n",
      "│     ┆        ┆              ┆             ┆             ┆             ┆ Facility    ┆            │\n",
      "└─────┴────────┴──────────────┴─────────────┴─────────────┴─────────────┴─────────────┴────────────┘\n"
     ]
    }
   ],
   "execution_count": 22
  },
  {
   "metadata": {},
   "cell_type": "markdown",
   "source": "# Basic Descriptions of Training and Testing Data",
   "id": "91bbb11cd88aa50e"
  },
  {
   "metadata": {
    "ExecuteTime": {
     "end_time": "2025-03-28T23:52:08.610464Z",
     "start_time": "2025-03-28T23:52:08.604355Z"
    }
   },
   "cell_type": "code",
   "source": "train_df.describe()",
   "id": "27dc1842258b0e4f",
   "outputs": [
    {
     "data": {
      "text/plain": [
       "shape: (9, 9)\n",
       "┌────────────┬───────────┬────────┬────────────┬───┬───────────┬───────────┬───────────┬───────────┐\n",
       "│ statistic  ┆ age       ┆ gender ┆ primary_di ┆ … ┆ days_in_h ┆ comorbidi ┆ discharge ┆ readmitte │\n",
       "│ ---        ┆ ---       ┆ ---    ┆ agnosis    ┆   ┆ ospital   ┆ ty_score  ┆ _to       ┆ d         │\n",
       "│ str        ┆ f64       ┆ str    ┆ ---        ┆   ┆ ---       ┆ ---       ┆ ---       ┆ ---       │\n",
       "│            ┆           ┆        ┆ str        ┆   ┆ f64       ┆ f64       ┆ str       ┆ f64       │\n",
       "╞════════════╪═══════════╪════════╪════════════╪═══╪═══════════╪═══════════╪═══════════╪═══════════╡\n",
       "│ count      ┆ 5000.0    ┆ 5000   ┆ 5000       ┆ … ┆ 5000.0    ┆ 5000.0    ┆ 5000      ┆ 5000.0    │\n",
       "│ null_count ┆ 0.0       ┆ 0      ┆ 0          ┆ … ┆ 0.0       ┆ 0.0       ┆ 0         ┆ 0.0       │\n",
       "│ mean       ┆ 53.299    ┆ null   ┆ null       ┆ … ┆ 7.3966    ┆ 2.0686    ┆ null      ┆ 0.188     │\n",
       "│ std        ┆ 20.646851 ┆ null   ┆ null       ┆ … ┆ 4.025587  ┆ 1.422357  ┆ null      ┆ 0.390751  │\n",
       "│ min        ┆ 18.0      ┆ Female ┆ COPD       ┆ … ┆ 1.0       ┆ 0.0       ┆ Home      ┆ 0.0       │\n",
       "│ 25%        ┆ 36.0      ┆ null   ┆ null       ┆ … ┆ 4.0       ┆ 1.0       ┆ null      ┆ 0.0       │\n",
       "│ 50%        ┆ 53.0      ┆ null   ┆ null       ┆ … ┆ 7.0       ┆ 2.0       ┆ null      ┆ 0.0       │\n",
       "│ 75%        ┆ 71.0      ┆ null   ┆ null       ┆ … ┆ 11.0      ┆ 3.0       ┆ null      ┆ 0.0       │\n",
       "│ max        ┆ 89.0      ┆ Male   ┆ Kidney     ┆ … ┆ 14.0      ┆ 4.0       ┆ Skilled   ┆ 1.0       │\n",
       "│            ┆           ┆        ┆ Disease    ┆   ┆           ┆           ┆ Nursing   ┆           │\n",
       "│            ┆           ┆        ┆            ┆   ┆           ┆           ┆ Facility  ┆           │\n",
       "└────────────┴───────────┴────────┴────────────┴───┴───────────┴───────────┴───────────┴───────────┘"
      ],
      "text/html": [
       "<div><style>\n",
       ".dataframe > thead > tr,\n",
       ".dataframe > tbody > tr {\n",
       "  text-align: right;\n",
       "  white-space: pre-wrap;\n",
       "}\n",
       "</style>\n",
       "<small>shape: (9, 9)</small><table border=\"1\" class=\"dataframe\"><thead><tr><th>statistic</th><th>age</th><th>gender</th><th>primary_diagnosis</th><th>num_procedures</th><th>days_in_hospital</th><th>comorbidity_score</th><th>discharge_to</th><th>readmitted</th></tr><tr><td>str</td><td>f64</td><td>str</td><td>str</td><td>f64</td><td>f64</td><td>f64</td><td>str</td><td>f64</td></tr></thead><tbody><tr><td>&quot;count&quot;</td><td>5000.0</td><td>&quot;5000&quot;</td><td>&quot;5000&quot;</td><td>5000.0</td><td>5000.0</td><td>5000.0</td><td>&quot;5000&quot;</td><td>5000.0</td></tr><tr><td>&quot;null_count&quot;</td><td>0.0</td><td>&quot;0&quot;</td><td>&quot;0&quot;</td><td>0.0</td><td>0.0</td><td>0.0</td><td>&quot;0&quot;</td><td>0.0</td></tr><tr><td>&quot;mean&quot;</td><td>53.299</td><td>null</td><td>null</td><td>4.461</td><td>7.3966</td><td>2.0686</td><td>null</td><td>0.188</td></tr><tr><td>&quot;std&quot;</td><td>20.646851</td><td>null</td><td>null</td><td>2.88606</td><td>4.025587</td><td>1.422357</td><td>null</td><td>0.390751</td></tr><tr><td>&quot;min&quot;</td><td>18.0</td><td>&quot;Female&quot;</td><td>&quot;COPD&quot;</td><td>0.0</td><td>1.0</td><td>0.0</td><td>&quot;Home&quot;</td><td>0.0</td></tr><tr><td>&quot;25%&quot;</td><td>36.0</td><td>null</td><td>null</td><td>2.0</td><td>4.0</td><td>1.0</td><td>null</td><td>0.0</td></tr><tr><td>&quot;50%&quot;</td><td>53.0</td><td>null</td><td>null</td><td>4.0</td><td>7.0</td><td>2.0</td><td>null</td><td>0.0</td></tr><tr><td>&quot;75%&quot;</td><td>71.0</td><td>null</td><td>null</td><td>7.0</td><td>11.0</td><td>3.0</td><td>null</td><td>0.0</td></tr><tr><td>&quot;max&quot;</td><td>89.0</td><td>&quot;Male&quot;</td><td>&quot;Kidney Disease&quot;</td><td>9.0</td><td>14.0</td><td>4.0</td><td>&quot;Skilled Nursing Facility&quot;</td><td>1.0</td></tr></tbody></table></div>"
      ]
     },
     "execution_count": 25,
     "metadata": {},
     "output_type": "execute_result"
    }
   ],
   "execution_count": 25
  },
  {
   "metadata": {
    "ExecuteTime": {
     "end_time": "2025-03-28T23:52:51.937346Z",
     "start_time": "2025-03-28T23:52:51.931913Z"
    }
   },
   "cell_type": "code",
   "source": "test_df.describe()",
   "id": "8ea61a4b600109a0",
   "outputs": [
    {
     "data": {
      "text/plain": [
       "shape: (9, 8)\n",
       "┌────────────┬───────────┬────────┬────────────┬────────────┬────────────┬────────────┬────────────┐\n",
       "│ statistic  ┆ age       ┆ gender ┆ primary_di ┆ num_proced ┆ days_in_ho ┆ comorbidit ┆ discharge_ │\n",
       "│ ---        ┆ ---       ┆ ---    ┆ agnosis    ┆ ures       ┆ spital     ┆ y_score    ┆ to         │\n",
       "│ str        ┆ f64       ┆ str    ┆ ---        ┆ ---        ┆ ---        ┆ ---        ┆ ---        │\n",
       "│            ┆           ┆        ┆ str        ┆ f64        ┆ f64        ┆ f64        ┆ str        │\n",
       "╞════════════╪═══════════╪════════╪════════════╪════════════╪════════════╪════════════╪════════════╡\n",
       "│ count      ┆ 2000.0    ┆ 2000   ┆ 2000       ┆ 2000.0     ┆ 2000.0     ┆ 2000.0     ┆ 2000       │\n",
       "│ null_count ┆ 0.0       ┆ 0      ┆ 0          ┆ 0.0        ┆ 0.0        ┆ 0.0        ┆ 0          │\n",
       "│ mean       ┆ 54.318    ┆ null   ┆ null       ┆ 4.563      ┆ 7.4195     ┆ 2.053      ┆ null       │\n",
       "│ std        ┆ 20.872631 ┆ null   ┆ null       ┆ 2.846767   ┆ 3.99944    ┆ 1.40932    ┆ null       │\n",
       "│ min        ┆ 18.0      ┆ Female ┆ COPD       ┆ 0.0        ┆ 1.0        ┆ 0.0        ┆ Home       │\n",
       "│ 25%        ┆ 36.0      ┆ null   ┆ null       ┆ 2.0        ┆ 4.0        ┆ 1.0        ┆ null       │\n",
       "│ 50%        ┆ 55.0      ┆ null   ┆ null       ┆ 5.0        ┆ 7.0        ┆ 2.0        ┆ null       │\n",
       "│ 75%        ┆ 72.0      ┆ null   ┆ null       ┆ 7.0        ┆ 11.0       ┆ 3.0        ┆ null       │\n",
       "│ max        ┆ 89.0      ┆ Male   ┆ Kidney     ┆ 9.0        ┆ 14.0       ┆ 4.0        ┆ Skilled    │\n",
       "│            ┆           ┆        ┆ Disease    ┆            ┆            ┆            ┆ Nursing    │\n",
       "│            ┆           ┆        ┆            ┆            ┆            ┆            ┆ Facility   │\n",
       "└────────────┴───────────┴────────┴────────────┴────────────┴────────────┴────────────┴────────────┘"
      ],
      "text/html": [
       "<div><style>\n",
       ".dataframe > thead > tr,\n",
       ".dataframe > tbody > tr {\n",
       "  text-align: right;\n",
       "  white-space: pre-wrap;\n",
       "}\n",
       "</style>\n",
       "<small>shape: (9, 8)</small><table border=\"1\" class=\"dataframe\"><thead><tr><th>statistic</th><th>age</th><th>gender</th><th>primary_diagnosis</th><th>num_procedures</th><th>days_in_hospital</th><th>comorbidity_score</th><th>discharge_to</th></tr><tr><td>str</td><td>f64</td><td>str</td><td>str</td><td>f64</td><td>f64</td><td>f64</td><td>str</td></tr></thead><tbody><tr><td>&quot;count&quot;</td><td>2000.0</td><td>&quot;2000&quot;</td><td>&quot;2000&quot;</td><td>2000.0</td><td>2000.0</td><td>2000.0</td><td>&quot;2000&quot;</td></tr><tr><td>&quot;null_count&quot;</td><td>0.0</td><td>&quot;0&quot;</td><td>&quot;0&quot;</td><td>0.0</td><td>0.0</td><td>0.0</td><td>&quot;0&quot;</td></tr><tr><td>&quot;mean&quot;</td><td>54.318</td><td>null</td><td>null</td><td>4.563</td><td>7.4195</td><td>2.053</td><td>null</td></tr><tr><td>&quot;std&quot;</td><td>20.872631</td><td>null</td><td>null</td><td>2.846767</td><td>3.99944</td><td>1.40932</td><td>null</td></tr><tr><td>&quot;min&quot;</td><td>18.0</td><td>&quot;Female&quot;</td><td>&quot;COPD&quot;</td><td>0.0</td><td>1.0</td><td>0.0</td><td>&quot;Home&quot;</td></tr><tr><td>&quot;25%&quot;</td><td>36.0</td><td>null</td><td>null</td><td>2.0</td><td>4.0</td><td>1.0</td><td>null</td></tr><tr><td>&quot;50%&quot;</td><td>55.0</td><td>null</td><td>null</td><td>5.0</td><td>7.0</td><td>2.0</td><td>null</td></tr><tr><td>&quot;75%&quot;</td><td>72.0</td><td>null</td><td>null</td><td>7.0</td><td>11.0</td><td>3.0</td><td>null</td></tr><tr><td>&quot;max&quot;</td><td>89.0</td><td>&quot;Male&quot;</td><td>&quot;Kidney Disease&quot;</td><td>9.0</td><td>14.0</td><td>4.0</td><td>&quot;Skilled Nursing Facility&quot;</td></tr></tbody></table></div>"
      ]
     },
     "execution_count": 26,
     "metadata": {},
     "output_type": "execute_result"
    }
   ],
   "execution_count": 26
  },
  {
   "metadata": {},
   "cell_type": "code",
   "outputs": [],
   "execution_count": null,
   "source": "",
   "id": "312509aa52d3bb51"
  }
 ],
 "metadata": {
  "kernelspec": {
   "display_name": "Python 3",
   "language": "python",
   "name": "python3"
  },
  "language_info": {
   "codemirror_mode": {
    "name": "ipython",
    "version": 2
   },
   "file_extension": ".py",
   "mimetype": "text/x-python",
   "name": "python",
   "nbconvert_exporter": "python",
   "pygments_lexer": "ipython2",
   "version": "2.7.6"
  }
 },
 "nbformat": 4,
 "nbformat_minor": 5
}
