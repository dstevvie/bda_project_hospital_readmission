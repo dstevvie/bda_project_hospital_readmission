{
 "cells": [
  {
   "cell_type": "markdown",
   "id": "39e66b44f6143daa",
   "metadata": {},
   "source": [
    "# Hospital Readmission Exploratory Analysis"
   ]
  },
  {
   "cell_type": "code",
   "execution_count": null,
   "id": "initial_id",
   "metadata": {
    "ExecuteTime": {
     "end_time": "2025-03-28T23:21:06.286980Z",
     "start_time": "2025-03-28T23:21:06.283964Z"
    },
    "collapsed": true
   },
   "outputs": [],
   "source": [
    "import polars as pl\n",
    "import altair as alt\n",
    "import kagglehub\n",
    "import os\n",
    "import pandas as pd\n",
    "\n"
   ]
  },
  {
   "cell_type": "code",
   "execution_count": null,
   "id": "554e415965307507",
   "metadata": {
    "ExecuteTime": {
     "end_time": "2025-03-28T23:34:55.964988Z",
     "start_time": "2025-03-28T23:34:55.461653Z"
    }
   },
   "outputs": [],
   "source": [
    "# Download dataset\n",
    "test_path = kagglehub.dataset_download(\"vanpatangan/readmission-dataset\", path=\"test_df.csv\")\n",
    "train_path = kagglehub.dataset_download(\"vanpatangan/readmission-dataset\", path=\"train_df.csv\")\n",
    "sample_submission_path = kagglehub.dataset_download(\"vanpatangan/readmission-dataset\", path=\"sample_submission.csv\")\n",
    "\n",
    "print(test_path)\n",
    "print(train_path)\n",
    "print(sample_submission_path)\n"
   ]
  },
  {
   "cell_type": "code",
   "execution_count": null,
   "id": "67d9029271cbb752",
   "metadata": {
    "ExecuteTime": {
     "end_time": "2025-03-28T23:34:48.222874Z",
     "start_time": "2025-03-28T23:34:48.218392Z"
    }
   },
   "outputs": [],
   "source": [
    "test_df = pl.read_csv(test_path)\n",
    "print(test_df.head())"
   ]
  },
  {
   "cell_type": "code",
   "execution_count": null,
   "id": "c37d238698689e97",
   "metadata": {
    "ExecuteTime": {
     "end_time": "2025-03-28T23:34:49.005466Z",
     "start_time": "2025-03-28T23:34:49.000868Z"
    }
   },
   "outputs": [],
   "source": [
    "train_df = pl.read_csv(train_path)\n",
    "print(train_df.head())"
   ]
  },
  {
   "cell_type": "markdown",
   "id": "91bbb11cd88aa50e",
   "metadata": {},
   "source": [
    "# Basic Descriptions of Training and Testing Data"
   ]
  },
  {
   "cell_type": "code",
   "execution_count": null,
   "id": "27dc1842258b0e4f",
   "metadata": {
    "ExecuteTime": {
     "end_time": "2025-03-28T23:52:08.610464Z",
     "start_time": "2025-03-28T23:52:08.604355Z"
    }
   },
   "outputs": [],
   "source": [
    "train_df.describe()"
   ]
  },
  {
   "cell_type": "code",
   "execution_count": null,
   "id": "8ea61a4b600109a0",
   "metadata": {
    "ExecuteTime": {
     "end_time": "2025-03-28T23:52:51.937346Z",
     "start_time": "2025-03-28T23:52:51.931913Z"
    }
   },
   "outputs": [],
   "source": [
    "test_df.describe()"
   ]
  },
  {
   "cell_type": "markdown",
   "id": "c384a33a",
   "metadata": {},
   "source": [
    "# Basic Descriptions of sample submission Data"
   ]
  },
  {
   "cell_type": "code",
   "execution_count": null,
   "id": "7beb9e52",
   "metadata": {},
   "outputs": [],
   "source": [
    "sample_submission = pl.read_csv(test_path)\n",
    "print(sample_submission.head())"
   ]
  },
  {
   "cell_type": "code",
   "execution_count": null,
   "id": "312509aa52d3bb51",
   "metadata": {},
   "outputs": [],
   "source": [
    "sample_submission.describe()"
   ]
  },
  {
   "cell_type": "markdown",
   "id": "4570623f",
   "metadata": {},
   "source": [
    "# Preprocessing Training Data"
   ]
  },
  {
   "cell_type": "code",
   "execution_count": null,
   "id": "976855d0",
   "metadata": {},
   "outputs": [],
   "source": [
    "# Preprocessing Training Data ---\n",
    "#remove column readmitted from train data\n",
    "train_processed = train_df.drop('readmitted')\n",
    "train_processed.describe()"
   ]
  },
  {
   "cell_type": "code",
   "execution_count": null,
   "id": "9b701594",
   "metadata": {},
   "outputs": [],
   "source": []
  }
 ],
 "metadata": {
  "kernelspec": {
   "display_name": "Python 3",
   "language": "python",
   "name": "python3"
  },
  "language_info": {
   "codemirror_mode": {
    "name": "ipython",
    "version": 3
   },
   "file_extension": ".py",
   "mimetype": "text/x-python",
   "name": "python",
   "nbconvert_exporter": "python",
   "pygments_lexer": "ipython3",
   "version": "3.13.1"
  }
 },
 "nbformat": 4,
 "nbformat_minor": 5
}
