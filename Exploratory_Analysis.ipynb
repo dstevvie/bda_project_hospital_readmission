{
  "cells": [
    {
      "cell_type": "markdown",
      "metadata": {
        "id": "view-in-github",
        "colab_type": "text"
      },
      "source": [
        "<a href=\"https://colab.research.google.com/github/dstevvie/bda_project_hospital_readmission/blob/ds_workingbranch/Exploratory_Analysis.ipynb\" target=\"_parent\"><img src=\"https://colab.research.google.com/assets/colab-badge.svg\" alt=\"Open In Colab\"/></a>"
      ]
    },
    {
      "metadata": {
        "id": "39e66b44f6143daa"
      },
      "cell_type": "markdown",
      "source": [
        "# Hospital Readmission Exploratory Analysis"
      ],
      "id": "39e66b44f6143daa"
    },
    {
      "cell_type": "code",
      "id": "initial_id",
      "metadata": {
        "collapsed": true,
        "ExecuteTime": {
          "end_time": "2025-03-28T23:21:06.286980Z",
          "start_time": "2025-03-28T23:21:06.283964Z"
        },
        "id": "initial_id"
      },
      "source": [
        "import polars as pl\n",
        "import altair as alt\n",
        "import kagglehub\n",
        "import os\n"
      ],
      "outputs": [],
      "execution_count": 77
    },
    {
      "metadata": {
        "ExecuteTime": {
          "end_time": "2025-03-28T23:34:55.964988Z",
          "start_time": "2025-03-28T23:34:55.461653Z"
        },
        "colab": {
          "base_uri": "https://localhost:8080/"
        },
        "id": "554e415965307507",
        "outputId": "e074d1d4-8474-4f19-83d9-01b2bab2da79"
      },
      "cell_type": "code",
      "source": [
        "# Download dataset\n",
        "test_path = kagglehub.dataset_download(\"vanpatangan/readmission-dataset\", path=\"test_df.csv\")\n",
        "train_path = kagglehub.dataset_download(\"vanpatangan/readmission-dataset\", path=\"train_df.csv\")\n",
        "\n",
        "print(test_path)\n",
        "print(train_path)\n"
      ],
      "id": "554e415965307507",
      "outputs": [
        {
          "output_type": "stream",
          "name": "stdout",
          "text": [
            "/root/.cache/kagglehub/datasets/vanpatangan/readmission-dataset/versions/1/test_df.csv\n",
            "/root/.cache/kagglehub/datasets/vanpatangan/readmission-dataset/versions/1/train_df.csv\n"
          ]
        }
      ],
      "execution_count": 78
    },
    {
      "metadata": {
        "ExecuteTime": {
          "end_time": "2025-03-28T23:34:48.222874Z",
          "start_time": "2025-03-28T23:34:48.218392Z"
        },
        "colab": {
          "base_uri": "https://localhost:8080/"
        },
        "id": "67d9029271cbb752",
        "outputId": "dae5aa37-f54a-47b4-b9f8-bbf705deca5d"
      },
      "cell_type": "code",
      "source": [
        "test_dataframe = pl.read_csv(test_path)\n",
        "print(test_dataframe.head())"
      ],
      "id": "67d9029271cbb752",
      "outputs": [
        {
          "output_type": "stream",
          "name": "stdout",
          "text": [
            "shape: (5, 7)\n",
            "┌─────┬────────┬────────────────┬────────────────┬────────────────┬────────────────┬───────────────┐\n",
            "│ age ┆ gender ┆ primary_diagno ┆ num_procedures ┆ days_in_hospit ┆ comorbidity_sc ┆ discharge_to  │\n",
            "│ --- ┆ ---    ┆ sis            ┆ ---            ┆ al             ┆ ore            ┆ ---           │\n",
            "│ i64 ┆ str    ┆ ---            ┆ i64            ┆ ---            ┆ ---            ┆ str           │\n",
            "│     ┆        ┆ str            ┆                ┆ i64            ┆ i64            ┆               │\n",
            "╞═════╪════════╪════════════════╪════════════════╪════════════════╪════════════════╪═══════════════╡\n",
            "│ 52  ┆ Male   ┆ Heart Disease  ┆ 3              ┆ 9              ┆ 3              ┆ Home          │\n",
            "│ 47  ┆ Female ┆ Diabetes       ┆ 2              ┆ 4              ┆ 0              ┆ Skilled       │\n",
            "│     ┆        ┆                ┆                ┆                ┆                ┆ Nursing       │\n",
            "│     ┆        ┆                ┆                ┆                ┆                ┆ Facility      │\n",
            "│ 72  ┆ Female ┆ Heart Disease  ┆ 7              ┆ 12             ┆ 4              ┆ Home          │\n",
            "│ 18  ┆ Female ┆ COPD           ┆ 5              ┆ 14             ┆ 3              ┆ Home          │\n",
            "│ 32  ┆ Male   ┆ Heart Disease  ┆ 9              ┆ 2              ┆ 4              ┆ Rehabilitatio │\n",
            "│     ┆        ┆                ┆                ┆                ┆                ┆ n Facility    │\n",
            "└─────┴────────┴────────────────┴────────────────┴────────────────┴────────────────┴───────────────┘\n"
          ]
        }
      ],
      "execution_count": 79
    },
    {
      "metadata": {
        "ExecuteTime": {
          "end_time": "2025-03-28T23:34:49.005466Z",
          "start_time": "2025-03-28T23:34:49.000868Z"
        },
        "colab": {
          "base_uri": "https://localhost:8080/"
        },
        "id": "c37d238698689e97",
        "outputId": "d3c630f9-9a6e-41a1-81fd-6e55cbd07777"
      },
      "cell_type": "code",
      "source": [
        "train_dataframe = pl.read_csv(train_path)\n",
        "print(train_dataframe.head())"
      ],
      "id": "c37d238698689e97",
      "outputs": [
        {
          "output_type": "stream",
          "name": "stdout",
          "text": [
            "shape: (5, 8)\n",
            "┌─────┬────────┬──────────────┬─────────────┬─────────────┬─────────────┬─────────────┬────────────┐\n",
            "│ age ┆ gender ┆ primary_diag ┆ num_procedu ┆ days_in_hos ┆ comorbidity ┆ discharge_t ┆ readmitted │\n",
            "│ --- ┆ ---    ┆ nosis        ┆ res         ┆ pital       ┆ _score      ┆ o           ┆ ---        │\n",
            "│ i64 ┆ str    ┆ ---          ┆ ---         ┆ ---         ┆ ---         ┆ ---         ┆ i64        │\n",
            "│     ┆        ┆ str          ┆ i64         ┆ i64         ┆ i64         ┆ str         ┆            │\n",
            "╞═════╪════════╪══════════════╪═════════════╪═════════════╪═════════════╪═════════════╪════════════╡\n",
            "│ 69  ┆ Male   ┆ Heart        ┆ 1           ┆ 2           ┆ 1           ┆ Home Health ┆ 0          │\n",
            "│     ┆        ┆ Disease      ┆             ┆             ┆             ┆ Care        ┆            │\n",
            "│ 32  ┆ Female ┆ COPD         ┆ 2           ┆ 13          ┆ 2           ┆ Rehabilitat ┆ 0          │\n",
            "│     ┆        ┆              ┆             ┆             ┆             ┆ ion         ┆            │\n",
            "│     ┆        ┆              ┆             ┆             ┆             ┆ Facility    ┆            │\n",
            "│ 89  ┆ Male   ┆ Diabetes     ┆ 1           ┆ 7           ┆ 1           ┆ Home        ┆ 0          │\n",
            "│ 78  ┆ Male   ┆ COPD         ┆ 9           ┆ 2           ┆ 2           ┆ Skilled     ┆ 0          │\n",
            "│     ┆        ┆              ┆             ┆             ┆             ┆ Nursing     ┆            │\n",
            "│     ┆        ┆              ┆             ┆             ┆             ┆ Facility    ┆            │\n",
            "│ 38  ┆ Male   ┆ Diabetes     ┆ 6           ┆ 4           ┆ 4           ┆ Rehabilitat ┆ 0          │\n",
            "│     ┆        ┆              ┆             ┆             ┆             ┆ ion         ┆            │\n",
            "│     ┆        ┆              ┆             ┆             ┆             ┆ Facility    ┆            │\n",
            "└─────┴────────┴──────────────┴─────────────┴─────────────┴─────────────┴─────────────┴────────────┘\n"
          ]
        }
      ],
      "execution_count": 80
    },
    {
      "metadata": {
        "id": "91bbb11cd88aa50e"
      },
      "cell_type": "markdown",
      "source": [
        "# Basic Descriptions of Training and Testing Data"
      ],
      "id": "91bbb11cd88aa50e"
    },
    {
      "metadata": {
        "ExecuteTime": {
          "end_time": "2025-03-28T23:52:08.610464Z",
          "start_time": "2025-03-28T23:52:08.604355Z"
        },
        "colab": {
          "base_uri": "https://localhost:8080/",
          "height": 380
        },
        "id": "27dc1842258b0e4f",
        "outputId": "b0d139a7-32dd-485d-e1fe-cc8013ba2ace"
      },
      "cell_type": "code",
      "source": [
        "train_dataframe.describe()"
      ],
      "id": "27dc1842258b0e4f",
      "outputs": [
        {
          "output_type": "execute_result",
          "data": {
            "text/plain": [
              "shape: (9, 9)\n",
              "┌────────────┬───────────┬────────┬────────────┬───┬───────────┬───────────┬───────────┬───────────┐\n",
              "│ statistic  ┆ age       ┆ gender ┆ primary_di ┆ … ┆ days_in_h ┆ comorbidi ┆ discharge ┆ readmitte │\n",
              "│ ---        ┆ ---       ┆ ---    ┆ agnosis    ┆   ┆ ospital   ┆ ty_score  ┆ _to       ┆ d         │\n",
              "│ str        ┆ f64       ┆ str    ┆ ---        ┆   ┆ ---       ┆ ---       ┆ ---       ┆ ---       │\n",
              "│            ┆           ┆        ┆ str        ┆   ┆ f64       ┆ f64       ┆ str       ┆ f64       │\n",
              "╞════════════╪═══════════╪════════╪════════════╪═══╪═══════════╪═══════════╪═══════════╪═══════════╡\n",
              "│ count      ┆ 5000.0    ┆ 5000   ┆ 5000       ┆ … ┆ 5000.0    ┆ 5000.0    ┆ 5000      ┆ 5000.0    │\n",
              "│ null_count ┆ 0.0       ┆ 0      ┆ 0          ┆ … ┆ 0.0       ┆ 0.0       ┆ 0         ┆ 0.0       │\n",
              "│ mean       ┆ 53.299    ┆ null   ┆ null       ┆ … ┆ 7.3966    ┆ 2.0686    ┆ null      ┆ 0.188     │\n",
              "│ std        ┆ 20.646851 ┆ null   ┆ null       ┆ … ┆ 4.025587  ┆ 1.422357  ┆ null      ┆ 0.390751  │\n",
              "│ min        ┆ 18.0      ┆ Female ┆ COPD       ┆ … ┆ 1.0       ┆ 0.0       ┆ Home      ┆ 0.0       │\n",
              "│ 25%        ┆ 36.0      ┆ null   ┆ null       ┆ … ┆ 4.0       ┆ 1.0       ┆ null      ┆ 0.0       │\n",
              "│ 50%        ┆ 53.0      ┆ null   ┆ null       ┆ … ┆ 7.0       ┆ 2.0       ┆ null      ┆ 0.0       │\n",
              "│ 75%        ┆ 71.0      ┆ null   ┆ null       ┆ … ┆ 11.0      ┆ 3.0       ┆ null      ┆ 0.0       │\n",
              "│ max        ┆ 89.0      ┆ Male   ┆ Kidney     ┆ … ┆ 14.0      ┆ 4.0       ┆ Skilled   ┆ 1.0       │\n",
              "│            ┆           ┆        ┆ Disease    ┆   ┆           ┆           ┆ Nursing   ┆           │\n",
              "│            ┆           ┆        ┆            ┆   ┆           ┆           ┆ Facility  ┆           │\n",
              "└────────────┴───────────┴────────┴────────────┴───┴───────────┴───────────┴───────────┴───────────┘"
            ],
            "text/html": [
              "<div><style>\n",
              ".dataframe > thead > tr,\n",
              ".dataframe > tbody > tr {\n",
              "  text-align: right;\n",
              "  white-space: pre-wrap;\n",
              "}\n",
              "</style>\n",
              "<small>shape: (9, 9)</small><table border=\"1\" class=\"dataframe\"><thead><tr><th>statistic</th><th>age</th><th>gender</th><th>primary_diagnosis</th><th>num_procedures</th><th>days_in_hospital</th><th>comorbidity_score</th><th>discharge_to</th><th>readmitted</th></tr><tr><td>str</td><td>f64</td><td>str</td><td>str</td><td>f64</td><td>f64</td><td>f64</td><td>str</td><td>f64</td></tr></thead><tbody><tr><td>&quot;count&quot;</td><td>5000.0</td><td>&quot;5000&quot;</td><td>&quot;5000&quot;</td><td>5000.0</td><td>5000.0</td><td>5000.0</td><td>&quot;5000&quot;</td><td>5000.0</td></tr><tr><td>&quot;null_count&quot;</td><td>0.0</td><td>&quot;0&quot;</td><td>&quot;0&quot;</td><td>0.0</td><td>0.0</td><td>0.0</td><td>&quot;0&quot;</td><td>0.0</td></tr><tr><td>&quot;mean&quot;</td><td>53.299</td><td>null</td><td>null</td><td>4.461</td><td>7.3966</td><td>2.0686</td><td>null</td><td>0.188</td></tr><tr><td>&quot;std&quot;</td><td>20.646851</td><td>null</td><td>null</td><td>2.88606</td><td>4.025587</td><td>1.422357</td><td>null</td><td>0.390751</td></tr><tr><td>&quot;min&quot;</td><td>18.0</td><td>&quot;Female&quot;</td><td>&quot;COPD&quot;</td><td>0.0</td><td>1.0</td><td>0.0</td><td>&quot;Home&quot;</td><td>0.0</td></tr><tr><td>&quot;25%&quot;</td><td>36.0</td><td>null</td><td>null</td><td>2.0</td><td>4.0</td><td>1.0</td><td>null</td><td>0.0</td></tr><tr><td>&quot;50%&quot;</td><td>53.0</td><td>null</td><td>null</td><td>4.0</td><td>7.0</td><td>2.0</td><td>null</td><td>0.0</td></tr><tr><td>&quot;75%&quot;</td><td>71.0</td><td>null</td><td>null</td><td>7.0</td><td>11.0</td><td>3.0</td><td>null</td><td>0.0</td></tr><tr><td>&quot;max&quot;</td><td>89.0</td><td>&quot;Male&quot;</td><td>&quot;Kidney Disease&quot;</td><td>9.0</td><td>14.0</td><td>4.0</td><td>&quot;Skilled Nursing Facility&quot;</td><td>1.0</td></tr></tbody></table></div>"
            ]
          },
          "metadata": {},
          "execution_count": 81
        }
      ],
      "execution_count": 81
    },
    {
      "metadata": {
        "ExecuteTime": {
          "end_time": "2025-03-28T23:52:51.937346Z",
          "start_time": "2025-03-28T23:52:51.931913Z"
        },
        "colab": {
          "base_uri": "https://localhost:8080/",
          "height": 380
        },
        "id": "8ea61a4b600109a0",
        "outputId": "6dde9d56-bd64-4bd6-916e-65c24fe90fb2"
      },
      "cell_type": "code",
      "source": [
        "test_dataframe.describe()"
      ],
      "id": "8ea61a4b600109a0",
      "outputs": [
        {
          "output_type": "execute_result",
          "data": {
            "text/plain": [
              "shape: (9, 8)\n",
              "┌────────────┬───────────┬────────┬────────────┬────────────┬────────────┬────────────┬────────────┐\n",
              "│ statistic  ┆ age       ┆ gender ┆ primary_di ┆ num_proced ┆ days_in_ho ┆ comorbidit ┆ discharge_ │\n",
              "│ ---        ┆ ---       ┆ ---    ┆ agnosis    ┆ ures       ┆ spital     ┆ y_score    ┆ to         │\n",
              "│ str        ┆ f64       ┆ str    ┆ ---        ┆ ---        ┆ ---        ┆ ---        ┆ ---        │\n",
              "│            ┆           ┆        ┆ str        ┆ f64        ┆ f64        ┆ f64        ┆ str        │\n",
              "╞════════════╪═══════════╪════════╪════════════╪════════════╪════════════╪════════════╪════════════╡\n",
              "│ count      ┆ 2000.0    ┆ 2000   ┆ 2000       ┆ 2000.0     ┆ 2000.0     ┆ 2000.0     ┆ 2000       │\n",
              "│ null_count ┆ 0.0       ┆ 0      ┆ 0          ┆ 0.0        ┆ 0.0        ┆ 0.0        ┆ 0          │\n",
              "│ mean       ┆ 54.318    ┆ null   ┆ null       ┆ 4.563      ┆ 7.4195     ┆ 2.053      ┆ null       │\n",
              "│ std        ┆ 20.872631 ┆ null   ┆ null       ┆ 2.846767   ┆ 3.99944    ┆ 1.40932    ┆ null       │\n",
              "│ min        ┆ 18.0      ┆ Female ┆ COPD       ┆ 0.0        ┆ 1.0        ┆ 0.0        ┆ Home       │\n",
              "│ 25%        ┆ 36.0      ┆ null   ┆ null       ┆ 2.0        ┆ 4.0        ┆ 1.0        ┆ null       │\n",
              "│ 50%        ┆ 55.0      ┆ null   ┆ null       ┆ 5.0        ┆ 7.0        ┆ 2.0        ┆ null       │\n",
              "│ 75%        ┆ 72.0      ┆ null   ┆ null       ┆ 7.0        ┆ 11.0       ┆ 3.0        ┆ null       │\n",
              "│ max        ┆ 89.0      ┆ Male   ┆ Kidney     ┆ 9.0        ┆ 14.0       ┆ 4.0        ┆ Skilled    │\n",
              "│            ┆           ┆        ┆ Disease    ┆            ┆            ┆            ┆ Nursing    │\n",
              "│            ┆           ┆        ┆            ┆            ┆            ┆            ┆ Facility   │\n",
              "└────────────┴───────────┴────────┴────────────┴────────────┴────────────┴────────────┴────────────┘"
            ],
            "text/html": [
              "<div><style>\n",
              ".dataframe > thead > tr,\n",
              ".dataframe > tbody > tr {\n",
              "  text-align: right;\n",
              "  white-space: pre-wrap;\n",
              "}\n",
              "</style>\n",
              "<small>shape: (9, 8)</small><table border=\"1\" class=\"dataframe\"><thead><tr><th>statistic</th><th>age</th><th>gender</th><th>primary_diagnosis</th><th>num_procedures</th><th>days_in_hospital</th><th>comorbidity_score</th><th>discharge_to</th></tr><tr><td>str</td><td>f64</td><td>str</td><td>str</td><td>f64</td><td>f64</td><td>f64</td><td>str</td></tr></thead><tbody><tr><td>&quot;count&quot;</td><td>2000.0</td><td>&quot;2000&quot;</td><td>&quot;2000&quot;</td><td>2000.0</td><td>2000.0</td><td>2000.0</td><td>&quot;2000&quot;</td></tr><tr><td>&quot;null_count&quot;</td><td>0.0</td><td>&quot;0&quot;</td><td>&quot;0&quot;</td><td>0.0</td><td>0.0</td><td>0.0</td><td>&quot;0&quot;</td></tr><tr><td>&quot;mean&quot;</td><td>54.318</td><td>null</td><td>null</td><td>4.563</td><td>7.4195</td><td>2.053</td><td>null</td></tr><tr><td>&quot;std&quot;</td><td>20.872631</td><td>null</td><td>null</td><td>2.846767</td><td>3.99944</td><td>1.40932</td><td>null</td></tr><tr><td>&quot;min&quot;</td><td>18.0</td><td>&quot;Female&quot;</td><td>&quot;COPD&quot;</td><td>0.0</td><td>1.0</td><td>0.0</td><td>&quot;Home&quot;</td></tr><tr><td>&quot;25%&quot;</td><td>36.0</td><td>null</td><td>null</td><td>2.0</td><td>4.0</td><td>1.0</td><td>null</td></tr><tr><td>&quot;50%&quot;</td><td>55.0</td><td>null</td><td>null</td><td>5.0</td><td>7.0</td><td>2.0</td><td>null</td></tr><tr><td>&quot;75%&quot;</td><td>72.0</td><td>null</td><td>null</td><td>7.0</td><td>11.0</td><td>3.0</td><td>null</td></tr><tr><td>&quot;max&quot;</td><td>89.0</td><td>&quot;Male&quot;</td><td>&quot;Kidney Disease&quot;</td><td>9.0</td><td>14.0</td><td>4.0</td><td>&quot;Skilled Nursing Facility&quot;</td></tr></tbody></table></div>"
            ]
          },
          "metadata": {},
          "execution_count": 82
        }
      ],
      "execution_count": 82
    },
    {
      "metadata": {
        "colab": {
          "base_uri": "https://localhost:8080/"
        },
        "id": "312509aa52d3bb51",
        "outputId": "fcc1fd16-7d60-4868-f38c-2ebdbaab3cc7"
      },
      "cell_type": "code",
      "outputs": [
        {
          "output_type": "stream",
          "name": "stdout",
          "text": [
            "Column readmitted not found in one of the DataFrames.\n",
            "Missing values in train_dataframe:\n",
            " shape: (1, 8)\n",
            "┌─────┬────────┬──────────────┬─────────────┬─────────────┬─────────────┬─────────────┬────────────┐\n",
            "│ age ┆ gender ┆ primary_diag ┆ num_procedu ┆ days_in_hos ┆ comorbidity ┆ discharge_t ┆ readmitted │\n",
            "│ --- ┆ ---    ┆ nosis        ┆ res         ┆ pital       ┆ _score      ┆ o           ┆ ---        │\n",
            "│ u32 ┆ u32    ┆ ---          ┆ ---         ┆ ---         ┆ ---         ┆ ---         ┆ u32        │\n",
            "│     ┆        ┆ u32          ┆ u32         ┆ u32         ┆ u32         ┆ u32         ┆            │\n",
            "╞═════╪════════╪══════════════╪═════════════╪═════════════╪═════════════╪═════════════╪════════════╡\n",
            "│ 0   ┆ 0      ┆ 0            ┆ 0           ┆ 0           ┆ 0           ┆ 0           ┆ 0          │\n",
            "└─────┴────────┴──────────────┴─────────────┴─────────────┴─────────────┴─────────────┴────────────┘\n",
            "Missing values in test_dataframe:\n",
            " shape: (1, 7)\n",
            "┌─────┬────────┬─────────────────┬────────────────┬────────────────┬────────────────┬──────────────┐\n",
            "│ age ┆ gender ┆ primary_diagnos ┆ num_procedures ┆ days_in_hospit ┆ comorbidity_sc ┆ discharge_to │\n",
            "│ --- ┆ ---    ┆ is              ┆ ---            ┆ al             ┆ ore            ┆ ---          │\n",
            "│ u32 ┆ u32    ┆ ---             ┆ u32            ┆ ---            ┆ ---            ┆ u32          │\n",
            "│     ┆        ┆ u32             ┆                ┆ u32            ┆ u32            ┆              │\n",
            "╞═════╪════════╪═════════════════╪════════════════╪════════════════╪════════════════╪══════════════╡\n",
            "│ 0   ┆ 0      ┆ 0               ┆ 0              ┆ 0              ┆ 0              ┆ 0            │\n",
            "└─────┴────────┴─────────────────┴────────────────┴────────────────┴────────────────┴──────────────┘\n"
          ]
        }
      ],
      "execution_count": 83,
      "source": [
        "import polars as pl\n",
        "\n",
        "# Step 1: Replace \"?\" with None for categorical columns\n",
        "train_dataframe = train_dataframe.with_columns([\n",
        "    pl.when(pl.col(col).cast(pl.Utf8) == \"?\")\n",
        "    .then(None)\n",
        "    .otherwise(pl.col(col))\n",
        "    .alias(col)\n",
        "    for col, dtype in zip(train_dataframe.columns, train_dataframe.dtypes) if dtype == pl.Utf8\n",
        "])\n",
        "\n",
        "test_dataframe = test_dataframe.with_columns([\n",
        "    pl.when(pl.col(col).cast(pl.Utf8) == \"?\")\n",
        "    .then(None)\n",
        "    .otherwise(pl.col(col))\n",
        "    .alias(col)\n",
        "    for col, dtype in zip(test_dataframe.columns, test_dataframe.dtypes) if dtype == pl.Utf8\n",
        "])\n",
        "\n",
        "# Step 2: Handle missing values for numerical columns\n",
        "numerical_cols = [col for col, dtype in zip(train_dataframe.columns, train_dataframe.dtypes) if dtype in [pl.Float64, pl.Int64]]\n",
        "\n",
        "for col in numerical_cols:\n",
        "    if col in train_dataframe.columns and col in test_dataframe.columns:  # Check column existence\n",
        "        train_median = train_dataframe.select(pl.col(col).median())[0, 0]  # Extract median\n",
        "        test_median = test_dataframe.select(pl.col(col).median())[0, 0]    # Extract median\n",
        "        train_dataframe = train_dataframe.with_columns(\n",
        "            pl.col(col).fill_null(train_median).alias(col)\n",
        "        )\n",
        "        test_dataframe = test_dataframe.with_columns(\n",
        "            pl.col(col).fill_null(test_median).alias(col)\n",
        "        )\n",
        "    else:\n",
        "        print(f\"Column {col} not found in one of the DataFrames.\")\n",
        "# Step 3: Handle missing values for categorical columns\n",
        "categorical_cols = [col for col, dtype in zip(train_dataframe.columns, train_dataframe.dtypes) if dtype == pl.Utf8]\n",
        "\n",
        "for col in categorical_cols:\n",
        "    train_mode = train_dataframe[col].mode().to_list()[0]  # Get the mode\n",
        "    test_mode = test_dataframe[col].mode().to_list()[0]  # Get the mode\n",
        "    train_dataframe = train_dataframe.with_columns(\n",
        "        pl.col(col).fill_null(train_mode).alias(col)\n",
        "    )\n",
        "    test_dataframe = test_dataframe.with_columns(\n",
        "        pl.col(col).fill_null(test_mode).alias(col)\n",
        "    )\n",
        "\n",
        "# Step 4: Verify no missing values\n",
        "print(\"Missing values in train_dataframe:\\n\", train_dataframe.null_count())\n",
        "print(\"Missing values in test_dataframe:\\n\", test_dataframe.null_count())"
      ],
      "id": "312509aa52d3bb51"
    },
    {
      "cell_type": "code",
      "source": [
        "from sklearn.preprocessing import OneHotEncoder\n",
        "import polars as pl\n",
        "import numpy as np\n",
        "\n",
        "# Convert Polars DataFrame to Pandas for One-Hot Encoding\n",
        "train_df = train_dataframe.to_pandas()\n",
        "test_df = test_dataframe.to_pandas()\n",
        "\n",
        "# Identify categorical columns\n",
        "categorical_cols = [col for col in train_df.columns if train_df[col].dtype == \"object\"]\n",
        "\n",
        "if categorical_cols:  # Check if there are categorical columns\n",
        "    # One-Hot Encode categorical columns\n",
        "    encoder = OneHotEncoder(handle_unknown='ignore')  # No sparse keyword\n",
        "    train_encoded = encoder.fit_transform(train_df[categorical_cols]).toarray()  # Convert to dense array\n",
        "    test_encoded = encoder.transform(test_df[categorical_cols]).toarray()  # Convert to dense array\n",
        "\n",
        "    # Get encoded column names\n",
        "    encoded_columns = encoder.get_feature_names_out(categorical_cols).tolist()\n",
        "\n",
        "    # Create Polars DataFrames with proper column names\n",
        "    train_encoded_df = pl.DataFrame(data=train_encoded, schema=encoded_columns)  # Specify column names directly\n",
        "    test_encoded_df = pl.DataFrame(data=test_encoded, schema=encoded_columns)\n",
        "\n",
        "    # Merge encoded features back into the original Polars DataFrames\n",
        "    train_dataframe = pl.concat([train_dataframe.drop(categorical_cols), train_encoded_df], how=\"horizontal\")\n",
        "    test_dataframe = pl.concat([test_dataframe.drop(categorical_cols), test_encoded_df], how=\"horizontal\")\n",
        "\n",
        "    # Verify results\n",
        "    print(train_dataframe.head())\n",
        "    print(test_dataframe.head())\n",
        "else:\n",
        "    print(\"No categorical columns found for one-hot encoding.\")"
      ],
      "metadata": {
        "colab": {
          "base_uri": "https://localhost:8080/"
        },
        "id": "bh2m9V-xVWLr",
        "outputId": "2fcb335b-5e57-4082-d204-9806ac44de54"
      },
      "id": "bh2m9V-xVWLr",
      "execution_count": 84,
      "outputs": [
        {
          "output_type": "stream",
          "name": "stdout",
          "text": [
            "shape: (5, 16)\n",
            "┌──────┬────────────┬────────────┬────────────┬───┬────────────┬───────────┬───────────┬───────────┐\n",
            "│ age  ┆ num_proced ┆ days_in_ho ┆ comorbidit ┆ … ┆ discharge_ ┆ discharge ┆ discharge ┆ discharge │\n",
            "│ ---  ┆ ures       ┆ spital     ┆ y_score    ┆   ┆ to_Home    ┆ _to_Home  ┆ _to_Rehab ┆ _to_Skill │\n",
            "│ f64  ┆ ---        ┆ ---        ┆ ---        ┆   ┆ ---        ┆ Health    ┆ ilitation ┆ ed        │\n",
            "│      ┆ f64        ┆ f64        ┆ f64        ┆   ┆ f64        ┆ Care      ┆ Fa…       ┆ Nursing   │\n",
            "│      ┆            ┆            ┆            ┆   ┆            ┆ ---       ┆ ---       ┆ F…        │\n",
            "│      ┆            ┆            ┆            ┆   ┆            ┆ f64       ┆ f64       ┆ ---       │\n",
            "│      ┆            ┆            ┆            ┆   ┆            ┆           ┆           ┆ f64       │\n",
            "╞══════╪════════════╪════════════╪════════════╪═══╪════════════╪═══════════╪═══════════╪═══════════╡\n",
            "│ 69.0 ┆ 1.0        ┆ 2.0        ┆ 1.0        ┆ … ┆ 0.0        ┆ 1.0       ┆ 0.0       ┆ 0.0       │\n",
            "│ 32.0 ┆ 2.0        ┆ 13.0       ┆ 2.0        ┆ … ┆ 0.0        ┆ 0.0       ┆ 1.0       ┆ 0.0       │\n",
            "│ 89.0 ┆ 1.0        ┆ 7.0        ┆ 1.0        ┆ … ┆ 1.0        ┆ 0.0       ┆ 0.0       ┆ 0.0       │\n",
            "│ 78.0 ┆ 9.0        ┆ 2.0        ┆ 2.0        ┆ … ┆ 0.0        ┆ 0.0       ┆ 0.0       ┆ 1.0       │\n",
            "│ 38.0 ┆ 6.0        ┆ 4.0        ┆ 4.0        ┆ … ┆ 0.0        ┆ 0.0       ┆ 1.0       ┆ 0.0       │\n",
            "└──────┴────────────┴────────────┴────────────┴───┴────────────┴───────────┴───────────┴───────────┘\n",
            "shape: (5, 15)\n",
            "┌──────┬────────────┬────────────┬────────────┬───┬────────────┬───────────┬───────────┬───────────┐\n",
            "│ age  ┆ num_proced ┆ days_in_ho ┆ comorbidit ┆ … ┆ discharge_ ┆ discharge ┆ discharge ┆ discharge │\n",
            "│ ---  ┆ ures       ┆ spital     ┆ y_score    ┆   ┆ to_Home    ┆ _to_Home  ┆ _to_Rehab ┆ _to_Skill │\n",
            "│ f64  ┆ ---        ┆ ---        ┆ ---        ┆   ┆ ---        ┆ Health    ┆ ilitation ┆ ed        │\n",
            "│      ┆ f64        ┆ f64        ┆ f64        ┆   ┆ f64        ┆ Care      ┆ Fa…       ┆ Nursing   │\n",
            "│      ┆            ┆            ┆            ┆   ┆            ┆ ---       ┆ ---       ┆ F…        │\n",
            "│      ┆            ┆            ┆            ┆   ┆            ┆ f64       ┆ f64       ┆ ---       │\n",
            "│      ┆            ┆            ┆            ┆   ┆            ┆           ┆           ┆ f64       │\n",
            "╞══════╪════════════╪════════════╪════════════╪═══╪════════════╪═══════════╪═══════════╪═══════════╡\n",
            "│ 52.0 ┆ 3.0        ┆ 9.0        ┆ 3.0        ┆ … ┆ 1.0        ┆ 0.0       ┆ 0.0       ┆ 0.0       │\n",
            "│ 47.0 ┆ 2.0        ┆ 4.0        ┆ 0.0        ┆ … ┆ 0.0        ┆ 0.0       ┆ 0.0       ┆ 1.0       │\n",
            "│ 72.0 ┆ 7.0        ┆ 12.0       ┆ 4.0        ┆ … ┆ 1.0        ┆ 0.0       ┆ 0.0       ┆ 0.0       │\n",
            "│ 18.0 ┆ 5.0        ┆ 14.0       ┆ 3.0        ┆ … ┆ 1.0        ┆ 0.0       ┆ 0.0       ┆ 0.0       │\n",
            "│ 32.0 ┆ 9.0        ┆ 2.0        ┆ 4.0        ┆ … ┆ 0.0        ┆ 0.0       ┆ 1.0       ┆ 0.0       │\n",
            "└──────┴────────────┴────────────┴────────────┴───┴────────────┴───────────┴───────────┴───────────┘\n"
          ]
        }
      ]
    },
    {
      "cell_type": "code",
      "source": [
        "X_train = train_dataframe.drop(\"readmitted\")\n",
        "y_train = train_dataframe[\"readmitted\"]\n",
        "\n",
        "X_test = test_dataframe"
      ],
      "metadata": {
        "id": "q7R-t8DjXngx"
      },
      "id": "q7R-t8DjXngx",
      "execution_count": 85,
      "outputs": []
    },
    {
      "cell_type": "code",
      "source": [
        "# Convert Polars DataFrame and Series to NumPy\n",
        "X_train_array = X_train.to_numpy()\n",
        "y_train_array = y_train.to_numpy()\n",
        "\n",
        "\n",
        "# Verify the shapes of the balanced data\n",
        "print(\"Balanced X_train shape:\", X_train_balanced.shape)\n",
        "print(\"Balanced y_train shape:\", y_train_balanced.shape)"
      ],
      "metadata": {
        "colab": {
          "base_uri": "https://localhost:8080/"
        },
        "id": "M9f8E99oeM5T",
        "outputId": "5b65efd6-8742-422c-c576-46d3edbd4dfc"
      },
      "id": "M9f8E99oeM5T",
      "execution_count": 86,
      "outputs": [
        {
          "output_type": "stream",
          "name": "stdout",
          "text": [
            "Balanced X_train shape: (8120, 15)\n",
            "Balanced y_train shape: (8120,)\n"
          ]
        }
      ]
    },
    {
      "cell_type": "code",
      "source": [
        "from sklearn.feature_selection import RFE\n",
        "from sklearn.linear_model import LogisticRegression\n",
        "\n",
        "model = LogisticRegression(max_iter=1000, random_state=42)\n",
        "selector = RFE(model, n_features_to_select=10)  # Select top 10 features\n",
        "X_train_reduced = selector.fit_transform(X_train, y_train)\n",
        "print(\"Selected Features:\", selector.support_)"
      ],
      "metadata": {
        "colab": {
          "base_uri": "https://localhost:8080/"
        },
        "id": "RywIGp4qYJDK",
        "outputId": "96e0701f-3ccc-4066-8c59-bb0369ccd8e4"
      },
      "id": "RywIGp4qYJDK",
      "execution_count": 90,
      "outputs": [
        {
          "output_type": "stream",
          "name": "stdout",
          "text": [
            "Selected Features: [False False False False  True  True  True  True  True  True False  True\n",
            "  True  True  True]\n"
          ]
        }
      ]
    },
    {
      "cell_type": "code",
      "source": [
        "from xgboost import XGBClassifier\n",
        "\n",
        "model = XGBClassifier(random_state=42, use_label_encoder=False, eval_metric='auc')\n",
        "model.fit(X_train, y_train)"
      ],
      "metadata": {
        "colab": {
          "base_uri": "https://localhost:8080/",
          "height": 323
        },
        "id": "XYoVxl9Ge6u8",
        "outputId": "a3545473-b715-4da7-81d8-8898336ab89e"
      },
      "id": "XYoVxl9Ge6u8",
      "execution_count": 92,
      "outputs": [
        {
          "output_type": "stream",
          "name": "stderr",
          "text": [
            "/usr/local/lib/python3.11/dist-packages/xgboost/core.py:158: UserWarning: [05:17:25] WARNING: /workspace/src/learner.cc:740: \n",
            "Parameters: { \"use_label_encoder\" } are not used.\n",
            "\n",
            "  warnings.warn(smsg, UserWarning)\n"
          ]
        },
        {
          "output_type": "execute_result",
          "data": {
            "text/plain": [
              "XGBClassifier(base_score=None, booster=None, callbacks=None,\n",
              "              colsample_bylevel=None, colsample_bynode=None,\n",
              "              colsample_bytree=None, device=None, early_stopping_rounds=None,\n",
              "              enable_categorical=False, eval_metric='auc', feature_types=None,\n",
              "              gamma=None, grow_policy=None, importance_type=None,\n",
              "              interaction_constraints=None, learning_rate=None, max_bin=None,\n",
              "              max_cat_threshold=None, max_cat_to_onehot=None,\n",
              "              max_delta_step=None, max_depth=None, max_leaves=None,\n",
              "              min_child_weight=None, missing=nan, monotone_constraints=None,\n",
              "              multi_strategy=None, n_estimators=None, n_jobs=None,\n",
              "              num_parallel_tree=None, random_state=42, ...)"
            ],
            "text/html": [
              "<style>#sk-container-id-10 {\n",
              "  /* Definition of color scheme common for light and dark mode */\n",
              "  --sklearn-color-text: #000;\n",
              "  --sklearn-color-text-muted: #666;\n",
              "  --sklearn-color-line: gray;\n",
              "  /* Definition of color scheme for unfitted estimators */\n",
              "  --sklearn-color-unfitted-level-0: #fff5e6;\n",
              "  --sklearn-color-unfitted-level-1: #f6e4d2;\n",
              "  --sklearn-color-unfitted-level-2: #ffe0b3;\n",
              "  --sklearn-color-unfitted-level-3: chocolate;\n",
              "  /* Definition of color scheme for fitted estimators */\n",
              "  --sklearn-color-fitted-level-0: #f0f8ff;\n",
              "  --sklearn-color-fitted-level-1: #d4ebff;\n",
              "  --sklearn-color-fitted-level-2: #b3dbfd;\n",
              "  --sklearn-color-fitted-level-3: cornflowerblue;\n",
              "\n",
              "  /* Specific color for light theme */\n",
              "  --sklearn-color-text-on-default-background: var(--sg-text-color, var(--theme-code-foreground, var(--jp-content-font-color1, black)));\n",
              "  --sklearn-color-background: var(--sg-background-color, var(--theme-background, var(--jp-layout-color0, white)));\n",
              "  --sklearn-color-border-box: var(--sg-text-color, var(--theme-code-foreground, var(--jp-content-font-color1, black)));\n",
              "  --sklearn-color-icon: #696969;\n",
              "\n",
              "  @media (prefers-color-scheme: dark) {\n",
              "    /* Redefinition of color scheme for dark theme */\n",
              "    --sklearn-color-text-on-default-background: var(--sg-text-color, var(--theme-code-foreground, var(--jp-content-font-color1, white)));\n",
              "    --sklearn-color-background: var(--sg-background-color, var(--theme-background, var(--jp-layout-color0, #111)));\n",
              "    --sklearn-color-border-box: var(--sg-text-color, var(--theme-code-foreground, var(--jp-content-font-color1, white)));\n",
              "    --sklearn-color-icon: #878787;\n",
              "  }\n",
              "}\n",
              "\n",
              "#sk-container-id-10 {\n",
              "  color: var(--sklearn-color-text);\n",
              "}\n",
              "\n",
              "#sk-container-id-10 pre {\n",
              "  padding: 0;\n",
              "}\n",
              "\n",
              "#sk-container-id-10 input.sk-hidden--visually {\n",
              "  border: 0;\n",
              "  clip: rect(1px 1px 1px 1px);\n",
              "  clip: rect(1px, 1px, 1px, 1px);\n",
              "  height: 1px;\n",
              "  margin: -1px;\n",
              "  overflow: hidden;\n",
              "  padding: 0;\n",
              "  position: absolute;\n",
              "  width: 1px;\n",
              "}\n",
              "\n",
              "#sk-container-id-10 div.sk-dashed-wrapped {\n",
              "  border: 1px dashed var(--sklearn-color-line);\n",
              "  margin: 0 0.4em 0.5em 0.4em;\n",
              "  box-sizing: border-box;\n",
              "  padding-bottom: 0.4em;\n",
              "  background-color: var(--sklearn-color-background);\n",
              "}\n",
              "\n",
              "#sk-container-id-10 div.sk-container {\n",
              "  /* jupyter's `normalize.less` sets `[hidden] { display: none; }`\n",
              "     but bootstrap.min.css set `[hidden] { display: none !important; }`\n",
              "     so we also need the `!important` here to be able to override the\n",
              "     default hidden behavior on the sphinx rendered scikit-learn.org.\n",
              "     See: https://github.com/scikit-learn/scikit-learn/issues/21755 */\n",
              "  display: inline-block !important;\n",
              "  position: relative;\n",
              "}\n",
              "\n",
              "#sk-container-id-10 div.sk-text-repr-fallback {\n",
              "  display: none;\n",
              "}\n",
              "\n",
              "div.sk-parallel-item,\n",
              "div.sk-serial,\n",
              "div.sk-item {\n",
              "  /* draw centered vertical line to link estimators */\n",
              "  background-image: linear-gradient(var(--sklearn-color-text-on-default-background), var(--sklearn-color-text-on-default-background));\n",
              "  background-size: 2px 100%;\n",
              "  background-repeat: no-repeat;\n",
              "  background-position: center center;\n",
              "}\n",
              "\n",
              "/* Parallel-specific style estimator block */\n",
              "\n",
              "#sk-container-id-10 div.sk-parallel-item::after {\n",
              "  content: \"\";\n",
              "  width: 100%;\n",
              "  border-bottom: 2px solid var(--sklearn-color-text-on-default-background);\n",
              "  flex-grow: 1;\n",
              "}\n",
              "\n",
              "#sk-container-id-10 div.sk-parallel {\n",
              "  display: flex;\n",
              "  align-items: stretch;\n",
              "  justify-content: center;\n",
              "  background-color: var(--sklearn-color-background);\n",
              "  position: relative;\n",
              "}\n",
              "\n",
              "#sk-container-id-10 div.sk-parallel-item {\n",
              "  display: flex;\n",
              "  flex-direction: column;\n",
              "}\n",
              "\n",
              "#sk-container-id-10 div.sk-parallel-item:first-child::after {\n",
              "  align-self: flex-end;\n",
              "  width: 50%;\n",
              "}\n",
              "\n",
              "#sk-container-id-10 div.sk-parallel-item:last-child::after {\n",
              "  align-self: flex-start;\n",
              "  width: 50%;\n",
              "}\n",
              "\n",
              "#sk-container-id-10 div.sk-parallel-item:only-child::after {\n",
              "  width: 0;\n",
              "}\n",
              "\n",
              "/* Serial-specific style estimator block */\n",
              "\n",
              "#sk-container-id-10 div.sk-serial {\n",
              "  display: flex;\n",
              "  flex-direction: column;\n",
              "  align-items: center;\n",
              "  background-color: var(--sklearn-color-background);\n",
              "  padding-right: 1em;\n",
              "  padding-left: 1em;\n",
              "}\n",
              "\n",
              "\n",
              "/* Toggleable style: style used for estimator/Pipeline/ColumnTransformer box that is\n",
              "clickable and can be expanded/collapsed.\n",
              "- Pipeline and ColumnTransformer use this feature and define the default style\n",
              "- Estimators will overwrite some part of the style using the `sk-estimator` class\n",
              "*/\n",
              "\n",
              "/* Pipeline and ColumnTransformer style (default) */\n",
              "\n",
              "#sk-container-id-10 div.sk-toggleable {\n",
              "  /* Default theme specific background. It is overwritten whether we have a\n",
              "  specific estimator or a Pipeline/ColumnTransformer */\n",
              "  background-color: var(--sklearn-color-background);\n",
              "}\n",
              "\n",
              "/* Toggleable label */\n",
              "#sk-container-id-10 label.sk-toggleable__label {\n",
              "  cursor: pointer;\n",
              "  display: flex;\n",
              "  width: 100%;\n",
              "  margin-bottom: 0;\n",
              "  padding: 0.5em;\n",
              "  box-sizing: border-box;\n",
              "  text-align: center;\n",
              "  align-items: start;\n",
              "  justify-content: space-between;\n",
              "  gap: 0.5em;\n",
              "}\n",
              "\n",
              "#sk-container-id-10 label.sk-toggleable__label .caption {\n",
              "  font-size: 0.6rem;\n",
              "  font-weight: lighter;\n",
              "  color: var(--sklearn-color-text-muted);\n",
              "}\n",
              "\n",
              "#sk-container-id-10 label.sk-toggleable__label-arrow:before {\n",
              "  /* Arrow on the left of the label */\n",
              "  content: \"▸\";\n",
              "  float: left;\n",
              "  margin-right: 0.25em;\n",
              "  color: var(--sklearn-color-icon);\n",
              "}\n",
              "\n",
              "#sk-container-id-10 label.sk-toggleable__label-arrow:hover:before {\n",
              "  color: var(--sklearn-color-text);\n",
              "}\n",
              "\n",
              "/* Toggleable content - dropdown */\n",
              "\n",
              "#sk-container-id-10 div.sk-toggleable__content {\n",
              "  max-height: 0;\n",
              "  max-width: 0;\n",
              "  overflow: hidden;\n",
              "  text-align: left;\n",
              "  /* unfitted */\n",
              "  background-color: var(--sklearn-color-unfitted-level-0);\n",
              "}\n",
              "\n",
              "#sk-container-id-10 div.sk-toggleable__content.fitted {\n",
              "  /* fitted */\n",
              "  background-color: var(--sklearn-color-fitted-level-0);\n",
              "}\n",
              "\n",
              "#sk-container-id-10 div.sk-toggleable__content pre {\n",
              "  margin: 0.2em;\n",
              "  border-radius: 0.25em;\n",
              "  color: var(--sklearn-color-text);\n",
              "  /* unfitted */\n",
              "  background-color: var(--sklearn-color-unfitted-level-0);\n",
              "}\n",
              "\n",
              "#sk-container-id-10 div.sk-toggleable__content.fitted pre {\n",
              "  /* unfitted */\n",
              "  background-color: var(--sklearn-color-fitted-level-0);\n",
              "}\n",
              "\n",
              "#sk-container-id-10 input.sk-toggleable__control:checked~div.sk-toggleable__content {\n",
              "  /* Expand drop-down */\n",
              "  max-height: 200px;\n",
              "  max-width: 100%;\n",
              "  overflow: auto;\n",
              "}\n",
              "\n",
              "#sk-container-id-10 input.sk-toggleable__control:checked~label.sk-toggleable__label-arrow:before {\n",
              "  content: \"▾\";\n",
              "}\n",
              "\n",
              "/* Pipeline/ColumnTransformer-specific style */\n",
              "\n",
              "#sk-container-id-10 div.sk-label input.sk-toggleable__control:checked~label.sk-toggleable__label {\n",
              "  color: var(--sklearn-color-text);\n",
              "  background-color: var(--sklearn-color-unfitted-level-2);\n",
              "}\n",
              "\n",
              "#sk-container-id-10 div.sk-label.fitted input.sk-toggleable__control:checked~label.sk-toggleable__label {\n",
              "  background-color: var(--sklearn-color-fitted-level-2);\n",
              "}\n",
              "\n",
              "/* Estimator-specific style */\n",
              "\n",
              "/* Colorize estimator box */\n",
              "#sk-container-id-10 div.sk-estimator input.sk-toggleable__control:checked~label.sk-toggleable__label {\n",
              "  /* unfitted */\n",
              "  background-color: var(--sklearn-color-unfitted-level-2);\n",
              "}\n",
              "\n",
              "#sk-container-id-10 div.sk-estimator.fitted input.sk-toggleable__control:checked~label.sk-toggleable__label {\n",
              "  /* fitted */\n",
              "  background-color: var(--sklearn-color-fitted-level-2);\n",
              "}\n",
              "\n",
              "#sk-container-id-10 div.sk-label label.sk-toggleable__label,\n",
              "#sk-container-id-10 div.sk-label label {\n",
              "  /* The background is the default theme color */\n",
              "  color: var(--sklearn-color-text-on-default-background);\n",
              "}\n",
              "\n",
              "/* On hover, darken the color of the background */\n",
              "#sk-container-id-10 div.sk-label:hover label.sk-toggleable__label {\n",
              "  color: var(--sklearn-color-text);\n",
              "  background-color: var(--sklearn-color-unfitted-level-2);\n",
              "}\n",
              "\n",
              "/* Label box, darken color on hover, fitted */\n",
              "#sk-container-id-10 div.sk-label.fitted:hover label.sk-toggleable__label.fitted {\n",
              "  color: var(--sklearn-color-text);\n",
              "  background-color: var(--sklearn-color-fitted-level-2);\n",
              "}\n",
              "\n",
              "/* Estimator label */\n",
              "\n",
              "#sk-container-id-10 div.sk-label label {\n",
              "  font-family: monospace;\n",
              "  font-weight: bold;\n",
              "  display: inline-block;\n",
              "  line-height: 1.2em;\n",
              "}\n",
              "\n",
              "#sk-container-id-10 div.sk-label-container {\n",
              "  text-align: center;\n",
              "}\n",
              "\n",
              "/* Estimator-specific */\n",
              "#sk-container-id-10 div.sk-estimator {\n",
              "  font-family: monospace;\n",
              "  border: 1px dotted var(--sklearn-color-border-box);\n",
              "  border-radius: 0.25em;\n",
              "  box-sizing: border-box;\n",
              "  margin-bottom: 0.5em;\n",
              "  /* unfitted */\n",
              "  background-color: var(--sklearn-color-unfitted-level-0);\n",
              "}\n",
              "\n",
              "#sk-container-id-10 div.sk-estimator.fitted {\n",
              "  /* fitted */\n",
              "  background-color: var(--sklearn-color-fitted-level-0);\n",
              "}\n",
              "\n",
              "/* on hover */\n",
              "#sk-container-id-10 div.sk-estimator:hover {\n",
              "  /* unfitted */\n",
              "  background-color: var(--sklearn-color-unfitted-level-2);\n",
              "}\n",
              "\n",
              "#sk-container-id-10 div.sk-estimator.fitted:hover {\n",
              "  /* fitted */\n",
              "  background-color: var(--sklearn-color-fitted-level-2);\n",
              "}\n",
              "\n",
              "/* Specification for estimator info (e.g. \"i\" and \"?\") */\n",
              "\n",
              "/* Common style for \"i\" and \"?\" */\n",
              "\n",
              ".sk-estimator-doc-link,\n",
              "a:link.sk-estimator-doc-link,\n",
              "a:visited.sk-estimator-doc-link {\n",
              "  float: right;\n",
              "  font-size: smaller;\n",
              "  line-height: 1em;\n",
              "  font-family: monospace;\n",
              "  background-color: var(--sklearn-color-background);\n",
              "  border-radius: 1em;\n",
              "  height: 1em;\n",
              "  width: 1em;\n",
              "  text-decoration: none !important;\n",
              "  margin-left: 0.5em;\n",
              "  text-align: center;\n",
              "  /* unfitted */\n",
              "  border: var(--sklearn-color-unfitted-level-1) 1pt solid;\n",
              "  color: var(--sklearn-color-unfitted-level-1);\n",
              "}\n",
              "\n",
              ".sk-estimator-doc-link.fitted,\n",
              "a:link.sk-estimator-doc-link.fitted,\n",
              "a:visited.sk-estimator-doc-link.fitted {\n",
              "  /* fitted */\n",
              "  border: var(--sklearn-color-fitted-level-1) 1pt solid;\n",
              "  color: var(--sklearn-color-fitted-level-1);\n",
              "}\n",
              "\n",
              "/* On hover */\n",
              "div.sk-estimator:hover .sk-estimator-doc-link:hover,\n",
              ".sk-estimator-doc-link:hover,\n",
              "div.sk-label-container:hover .sk-estimator-doc-link:hover,\n",
              ".sk-estimator-doc-link:hover {\n",
              "  /* unfitted */\n",
              "  background-color: var(--sklearn-color-unfitted-level-3);\n",
              "  color: var(--sklearn-color-background);\n",
              "  text-decoration: none;\n",
              "}\n",
              "\n",
              "div.sk-estimator.fitted:hover .sk-estimator-doc-link.fitted:hover,\n",
              ".sk-estimator-doc-link.fitted:hover,\n",
              "div.sk-label-container:hover .sk-estimator-doc-link.fitted:hover,\n",
              ".sk-estimator-doc-link.fitted:hover {\n",
              "  /* fitted */\n",
              "  background-color: var(--sklearn-color-fitted-level-3);\n",
              "  color: var(--sklearn-color-background);\n",
              "  text-decoration: none;\n",
              "}\n",
              "\n",
              "/* Span, style for the box shown on hovering the info icon */\n",
              ".sk-estimator-doc-link span {\n",
              "  display: none;\n",
              "  z-index: 9999;\n",
              "  position: relative;\n",
              "  font-weight: normal;\n",
              "  right: .2ex;\n",
              "  padding: .5ex;\n",
              "  margin: .5ex;\n",
              "  width: min-content;\n",
              "  min-width: 20ex;\n",
              "  max-width: 50ex;\n",
              "  color: var(--sklearn-color-text);\n",
              "  box-shadow: 2pt 2pt 4pt #999;\n",
              "  /* unfitted */\n",
              "  background: var(--sklearn-color-unfitted-level-0);\n",
              "  border: .5pt solid var(--sklearn-color-unfitted-level-3);\n",
              "}\n",
              "\n",
              ".sk-estimator-doc-link.fitted span {\n",
              "  /* fitted */\n",
              "  background: var(--sklearn-color-fitted-level-0);\n",
              "  border: var(--sklearn-color-fitted-level-3);\n",
              "}\n",
              "\n",
              ".sk-estimator-doc-link:hover span {\n",
              "  display: block;\n",
              "}\n",
              "\n",
              "/* \"?\"-specific style due to the `<a>` HTML tag */\n",
              "\n",
              "#sk-container-id-10 a.estimator_doc_link {\n",
              "  float: right;\n",
              "  font-size: 1rem;\n",
              "  line-height: 1em;\n",
              "  font-family: monospace;\n",
              "  background-color: var(--sklearn-color-background);\n",
              "  border-radius: 1rem;\n",
              "  height: 1rem;\n",
              "  width: 1rem;\n",
              "  text-decoration: none;\n",
              "  /* unfitted */\n",
              "  color: var(--sklearn-color-unfitted-level-1);\n",
              "  border: var(--sklearn-color-unfitted-level-1) 1pt solid;\n",
              "}\n",
              "\n",
              "#sk-container-id-10 a.estimator_doc_link.fitted {\n",
              "  /* fitted */\n",
              "  border: var(--sklearn-color-fitted-level-1) 1pt solid;\n",
              "  color: var(--sklearn-color-fitted-level-1);\n",
              "}\n",
              "\n",
              "/* On hover */\n",
              "#sk-container-id-10 a.estimator_doc_link:hover {\n",
              "  /* unfitted */\n",
              "  background-color: var(--sklearn-color-unfitted-level-3);\n",
              "  color: var(--sklearn-color-background);\n",
              "  text-decoration: none;\n",
              "}\n",
              "\n",
              "#sk-container-id-10 a.estimator_doc_link.fitted:hover {\n",
              "  /* fitted */\n",
              "  background-color: var(--sklearn-color-fitted-level-3);\n",
              "}\n",
              "</style><div id=\"sk-container-id-10\" class=\"sk-top-container\"><div class=\"sk-text-repr-fallback\"><pre>XGBClassifier(base_score=None, booster=None, callbacks=None,\n",
              "              colsample_bylevel=None, colsample_bynode=None,\n",
              "              colsample_bytree=None, device=None, early_stopping_rounds=None,\n",
              "              enable_categorical=False, eval_metric=&#x27;auc&#x27;, feature_types=None,\n",
              "              gamma=None, grow_policy=None, importance_type=None,\n",
              "              interaction_constraints=None, learning_rate=None, max_bin=None,\n",
              "              max_cat_threshold=None, max_cat_to_onehot=None,\n",
              "              max_delta_step=None, max_depth=None, max_leaves=None,\n",
              "              min_child_weight=None, missing=nan, monotone_constraints=None,\n",
              "              multi_strategy=None, n_estimators=None, n_jobs=None,\n",
              "              num_parallel_tree=None, random_state=42, ...)</pre><b>In a Jupyter environment, please rerun this cell to show the HTML representation or trust the notebook. <br />On GitHub, the HTML representation is unable to render, please try loading this page with nbviewer.org.</b></div><div class=\"sk-container\" hidden><div class=\"sk-item\"><div class=\"sk-estimator fitted sk-toggleable\"><input class=\"sk-toggleable__control sk-hidden--visually\" id=\"sk-estimator-id-10\" type=\"checkbox\" checked><label for=\"sk-estimator-id-10\" class=\"sk-toggleable__label fitted sk-toggleable__label-arrow\"><div><div>XGBClassifier</div></div><div><span class=\"sk-estimator-doc-link fitted\">i<span>Fitted</span></span></div></label><div class=\"sk-toggleable__content fitted\"><pre>XGBClassifier(base_score=None, booster=None, callbacks=None,\n",
              "              colsample_bylevel=None, colsample_bynode=None,\n",
              "              colsample_bytree=None, device=None, early_stopping_rounds=None,\n",
              "              enable_categorical=False, eval_metric=&#x27;auc&#x27;, feature_types=None,\n",
              "              gamma=None, grow_policy=None, importance_type=None,\n",
              "              interaction_constraints=None, learning_rate=None, max_bin=None,\n",
              "              max_cat_threshold=None, max_cat_to_onehot=None,\n",
              "              max_delta_step=None, max_depth=None, max_leaves=None,\n",
              "              min_child_weight=None, missing=nan, monotone_constraints=None,\n",
              "              multi_strategy=None, n_estimators=None, n_jobs=None,\n",
              "              num_parallel_tree=None, random_state=42, ...)</pre></div> </div></div></div></div>"
            ]
          },
          "metadata": {},
          "execution_count": 92
        }
      ]
    },
    {
      "cell_type": "code",
      "source": [
        "import numpy as np\n",
        "\n",
        "# Convert Polars DataFrame and Series to NumPy\n",
        "X_train_array = X_train.to_numpy()\n",
        "y_train_array = y_train.to_numpy()\n",
        "\n",
        "# Apply SMOTE\n",
        "from imblearn.over_sampling import SMOTE\n",
        "\n",
        "smote = SMOTE(random_state=42)\n",
        "X_train_balanced, y_train_balanced = smote.fit_resample(X_train_array, y_train_array)\n",
        "\n",
        "# Verify the shapes of the balanced data\n",
        "print(\"Balanced X_train shape:\", X_train_balanced.shape)\n",
        "print(\"Balanced y_train shape:\", y_train_balanced.shape)"
      ],
      "metadata": {
        "colab": {
          "base_uri": "https://localhost:8080/"
        },
        "id": "W-ZdH2wee8fI",
        "outputId": "e29d26c5-8c28-4522-95c5-f70f106a24b5"
      },
      "id": "W-ZdH2wee8fI",
      "execution_count": 94,
      "outputs": [
        {
          "output_type": "stream",
          "name": "stdout",
          "text": [
            "Balanced X_train shape: (8120, 15)\n",
            "Balanced y_train shape: (8120,)\n"
          ]
        }
      ]
    },
    {
      "cell_type": "code",
      "source": [
        "# Predict readmission probabilities\n",
        "y_pred_prob = model.predict_proba(X_test)[:, 1]  # Probability of the positive class\n",
        "\n",
        "# Predict readmission classes\n",
        "y_pred = model.predict(X_test)\n",
        "\n",
        "print(\"Predictions complete!\")"
      ],
      "metadata": {
        "colab": {
          "base_uri": "https://localhost:8080/"
        },
        "id": "7hJyFMynaWBp",
        "outputId": "7f7f994d-cbf3-40b3-e164-da28e0d95a8e"
      },
      "id": "7hJyFMynaWBp",
      "execution_count": 95,
      "outputs": [
        {
          "output_type": "stream",
          "name": "stdout",
          "text": [
            "Predictions complete!\n"
          ]
        }
      ]
    },
    {
      "cell_type": "code",
      "source": [
        "from sklearn.metrics import classification_report, confusion_matrix, roc_auc_score, roc_curve\n",
        "import matplotlib.pyplot as plt\n",
        "\n",
        "# Example for evaluation (if test labels exist)\n",
        "# Replace `y_test` with actual labels if available\n",
        "# print(\"\\nClassification Report:\\n\", classification_report(y_test, y_pred))\n",
        "# print(\"Confusion Matrix:\\n\", confusion_matrix(y_test, y_pred))\n",
        "\n",
        "# Plotting ROC Curve (optional, useful for binary classification)\n",
        "fpr, tpr, _ = roc_curve(y_train, model.predict_proba(X_train)[:, 1])  # Use training for now\n",
        "plt.figure(figsize=(8, 6))\n",
        "plt.plot(fpr, tpr, label=f'ROC Curve (AUC = {roc_auc_score(y_train, model.predict_proba(X_train)[:, 1]):.2f})')\n",
        "plt.plot([0, 1], [0, 1], 'k--')\n",
        "plt.xlabel('False Positive Rate')\n",
        "plt.ylabel('True Positive Rate')\n",
        "plt.title('ROC Curve')\n",
        "plt.legend(loc='lower right')\n",
        "plt.grid()\n",
        "plt.show()"
      ],
      "metadata": {
        "colab": {
          "base_uri": "https://localhost:8080/",
          "height": 564
        },
        "id": "OBna34mjalZ3",
        "outputId": "63199616-ee0f-4772-e037-3b943591ddde"
      },
      "id": "OBna34mjalZ3",
      "execution_count": 97,
      "outputs": [
        {
          "output_type": "display_data",
          "data": {
            "text/plain": [
              "<Figure size 800x600 with 1 Axes>"
            ],
            "image/png": "[encoded data removed]"
          },
          "metadata": {}
        }
      ]
    }
  ],
  "metadata": {
    "kernelspec": {
      "display_name": "Python 3",
      "language": "python",
      "name": "python3"
    },
    "language_info": {
      "codemirror_mode": {
        "name": "ipython",
        "version": 2
      },
      "file_extension": ".py",
      "mimetype": "text/x-python",
      "name": "python",
      "nbconvert_exporter": "python",
      "pygments_lexer": "ipython2",
      "version": "2.7.6"
    },
    "colab": {
      "provenance": [],
      "include_colab_link": true
    }
  },
  "nbformat": 4,
  "nbformat_minor": 5
}